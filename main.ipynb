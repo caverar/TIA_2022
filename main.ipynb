{
 "cells": [
  {
   "cell_type": "code",
   "execution_count": null,
   "metadata": {},
   "outputs": [],
   "source": [
    "\n",
    "import numpy as np\n",
    "from PIL import Image\n",
    "\n",
    "import lib.data_loader as dl\n",
    "\n",
    "data_paths=[\n",
    "    dl.DataLocation(\"data/Car_License_Plate_Detection/\", \"images/\", \"annotations/\", \"xml_yolo\"),\n",
    "    dl.DataLocation(\"data/license-plate-dataset/dataset/train/\", \"images/\", \"annots/\", \"xml_yolo\"),\n",
    "    dl.DataLocation(\"data/license-plate-dataset/dataset/valid/\", \"images/\", \"annots/\", \"xml_yolo\"),\n",
    "    dl.DataLocation(\"data/Real-time-Auto-License-Plate-Recognition-with-Jetson-Nano/yolo_plate_dataset/\", \"\", \"\", \n",
    "                     \"txt_raw\")\n",
    "]\n",
    "data_loader = dl.DataLoader((400,400),data_paths)\n",
    "\n"
   ]
  }
 ],
 "metadata": {
  "kernelspec": {
   "display_name": "Python 3 (ipykernel)",
   "language": "python",
   "name": "python3"
  },
  "language_info": {
   "codemirror_mode": {
    "name": "ipython",
    "version": 3
   },
   "file_extension": ".py",
   "mimetype": "text/x-python",
   "name": "python",
   "nbconvert_exporter": "python",
   "pygments_lexer": "ipython3",
   "version": "3.10.6"
  },
  "vscode": {
   "interpreter": {
    "hash": "916dbcbb3f70747c44a77c7bcd40155683ae19c65e1c03b4aa3499c5328201f1"
   }
  }
 },
 "nbformat": 4,
 "nbformat_minor": 2
}
