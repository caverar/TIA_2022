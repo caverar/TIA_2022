{
 "cells": [
  {
   "cell_type": "code",
   "execution_count": null,
   "metadata": {},
   "outputs": [],
   "source": [
    "import torch\n",
    "import pandas as pd\n",
    "\n",
    "# Model\n",
    "#model = torch.hub.load('ultralytics/yolov5', 'yolov5x')"
   ]
  },
  {
   "cell_type": "code",
   "execution_count": null,
   "metadata": {},
   "outputs": [],
   "source": [
    "data = pd.read_csv(\"./normalized_data/unique_plates.csv\")\n",
    "sample = data.sample(1)\n",
    "\n",
    "paths = sample[\"img_path\"].tolist()\n",
    "\n",
    "for path in paths:\n",
    "    results = model(path)\n",
    "    results.show()\n",
    "\n",
    "print(data.head())"
   ]
  },
  {
   "cell_type": "code",
   "execution_count": null,
   "metadata": {},
   "outputs": [],
   "source": [
    "sample = data.sample(10,random_state=123)\n",
    "\n",
    "percent = 0.8\n",
    "\n",
    "train = sample.iloc[:int(len(data)*percent),:]\n",
    "val = sample.iloc[int(len(data)*percent):,:]"
   ]
  },
  {
   "cell_type": "code",
   "execution_count": null,
   "metadata": {},
   "outputs": [],
   "source": [
    "import os\n",
    "\n",
    "copy = lambda src_file, dest: os.system(f\"cp {src_file} {dest}\")\n",
    "\n",
    "\n",
    "folder_path = \"C:\\\\Users\\\\crist\\\\Repos\\\\TIA_2022/normalized_data/plates_images/\"\n",
    "\n",
    "for i in train.index:\n",
    "    path = train[\"img_path\"][i]\n",
    "\n",
    "    name = path.replace(folder_path,'').replace('.jpg','')\n",
    "    copy(path, \"./yolo/data/images/train/\"+name+\".jpg\")\n",
    "\n",
    "    with open( \"./yolo/data/labels/train/\"+ name+'.txt', 'w') as f:\n",
    "        f.write(\"0 \")\n",
    "        f.write(str(train[\"xmin\"][i])+\" \")\n",
    "        f.write(str(train[\"ymin\"][i])+\" \")\n",
    "        f.write(str(train[\"xmax\"][i])+\" \")\n",
    "        f.write(str(train[\"ymax\"][i]))\n",
    "\n",
    "for i in val.index:\n",
    "    path = val[\"img_path\"][i]\n",
    "\n",
    "    name = path.replace(folder_path,'').replace('.jpg','')\n",
    "    copy(path, \"./yolo/data/images/val/\"+name+\".jpg\")\n",
    "\n",
    "    with open( \"./yolo/data/labels/val/\"+ name+'.txt', 'w') as f:\n",
    "        f.write(\"0 \")\n",
    "        f.write(str(val[\"xmin\"][i])+\" \")\n",
    "        f.write(str(val[\"ymin\"][i])+\" \")\n",
    "        f.write(str(val[\"xmax\"][i])+\" \")\n",
    "        f.write(str(val[\"ymax\"][i]))"
   ]
  },
  {
   "cell_type": "code",
   "execution_count": null,
   "metadata": {},
   "outputs": [],
   "source": [
    "# python train.py --img 640 --batch 16 --epochs 70 --data coco128.yaml --weights yolov5x.pt --cache"
   ]
  }
 ],
 "metadata": {
  "kernelspec": {
   "display_name": "Python 3.10.8 64-bit",
   "language": "python",
   "name": "python3"
  },
  "language_info": {
   "codemirror_mode": {
    "name": "ipython",
    "version": 3
   },
   "file_extension": ".py",
   "mimetype": "text/x-python",
   "name": "python",
   "nbconvert_exporter": "python",
   "pygments_lexer": "ipython3",
   "version": "3.10.8"
  },
  "orig_nbformat": 4,
  "vscode": {
   "interpreter": {
    "hash": "43973268aa23c7cf4b4cafe0e819fac9b2412fcc991a21988492c3271a4e3f9b"
   }
  }
 },
 "nbformat": 4,
 "nbformat_minor": 2
}
