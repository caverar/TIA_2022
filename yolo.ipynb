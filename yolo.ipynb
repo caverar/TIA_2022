{
 "cells": [
  {
   "cell_type": "markdown",
   "metadata": {},
   "source": [
    "# Train YOLO\n",
    "This notebook shows how to train a YOLO model on a custom dataset. The model is trained using one of the datasets available in the project\n"
   ]
  },
  {
   "cell_type": "code",
   "execution_count": 13,
   "metadata": {},
   "outputs": [],
   "source": [
    "# import torch\n",
    "import pandas as pd\n",
    "\n",
    "# # Model\n",
    "# model = torch.hub.load('ultralytics/yolov5', 'yolov5x')\n"
   ]
  },
  {
   "cell_type": "code",
   "execution_count": 14,
   "metadata": {},
   "outputs": [],
   "source": [
    "data = pd.read_csv(\"./normalized_data/unique_plates.csv\")\n",
    "sample = data.sample(1)\n",
    "\n",
    "# paths = sample[\"img_path\"].tolist()\n",
    "\n",
    "# for path in paths:\n",
    "#     results = model(path)\n",
    "#     results.show()\n"
   ]
  },
  {
   "cell_type": "code",
   "execution_count": 15,
   "metadata": {},
   "outputs": [],
   "source": [
    "sample = data.copy() #data.sample(1000, random_state=123)\n",
    "\n",
    "percent = 0.9\n",
    "\n",
    "train = sample.iloc[:int(len(sample)*percent)]\n",
    "val = sample.iloc[int(len(sample)*percent):]\n"
   ]
  },
  {
   "cell_type": "code",
   "execution_count": 16,
   "metadata": {},
   "outputs": [],
   "source": [
    "import os\n",
    "\n",
    "os.system(\"rm -rf ./yolo/data\")\n",
    "\n",
    "def copy(src_file, dest): return os.system(f\"cp {src_file} {dest}\")\n",
    "\n",
    "os.system(\"mkdir -p ./yolo/data/images/train\")\n",
    "os.system(\"mkdir -p ./yolo/data/images/val\")\n",
    "\n",
    "os.system(\"mkdir -p ./yolo/data/labels/train\")\n",
    "os.system(\"mkdir -p ./yolo/data/labels/val\")\n",
    "\n",
    "for i in train.index:\n",
    "    path = train[\"img_path\"][i]\n",
    "\n",
    "    name = path.split('/')[-1].replace(\".jpg\", \"\")\n",
    "\n",
    "    copy(path, \"./yolo/data/images/train/\"+name+\".jpg\")\n",
    "\n",
    "    with open(\"./yolo/data/labels/train/\" + name+'.txt', 'w') as f:\n",
    "        f.write(\"0 \")\n",
    "\n",
    "        x_center = (train[\"xmin\"][i] + train[\"xmax\"][i]) / 2 / 480\n",
    "        y_center = (train[\"ymin\"][i] + train[\"ymax\"][i]) / 2 / 480\n",
    "        width = (train[\"xmax\"][i] - train[\"xmin\"][i]) / 480\n",
    "        height = (train[\"ymax\"][i] - train[\"ymin\"][i]) / 480\n",
    "\n",
    "        f.write(str(x_center) + \" \")\n",
    "        f.write(str(y_center) + \" \")\n",
    "        f.write(str(width) + \" \")\n",
    "        f.write(str(height))\n",
    "\n",
    "for i in val.index:\n",
    "    path = val[\"img_path\"][i]\n",
    "\n",
    "    name = path.split('/')[-1]\n",
    "\n",
    "    copy(path, \"./yolo/data/images/val/\"+name+\".jpg\")\n",
    "\n",
    "    with open(\"./yolo/data/labels/val/\" + name+'.txt', 'w') as f:\n",
    "        f.write(\"0 \")\n",
    "        \n",
    "        x_center = (val[\"xmin\"][i] + val[\"xmax\"][i]) / 2 / 480\n",
    "        y_center = (val[\"ymin\"][i] + val[\"ymax\"][i]) / 2 / 480\n",
    "        width = (val[\"xmax\"][i] - val[\"xmin\"][i]) / 480\n",
    "        height = (val[\"ymax\"][i] - val[\"ymin\"][i]) / 480\n",
    "\n",
    "        f.write(str(x_center) + \" \")\n",
    "        f.write(str(y_center) + \" \")\n",
    "        f.write(str(width) + \" \")\n",
    "        f.write(str(height))\n",
    "        \n"
   ]
  },
  {
   "cell_type": "code",
   "execution_count": 17,
   "metadata": {},
   "outputs": [],
   "source": [
    "# python train.py --img 640 --batch 16 --epochs 70 --data coco128.yaml --weights yolov5x.pt --cache\n"
   ]
  }
 ],
 "metadata": {
  "kernelspec": {
   "display_name": "Python 3.10.8 64-bit",
   "language": "python",
   "name": "python3"
  },
  "language_info": {
   "codemirror_mode": {
    "name": "ipython",
    "version": 3
   },
   "file_extension": ".py",
   "mimetype": "text/x-python",
   "name": "python",
   "nbconvert_exporter": "python",
   "pygments_lexer": "ipython3",
   "version": "3.10.8"
  },
  "orig_nbformat": 4,
  "vscode": {
   "interpreter": {
    "hash": "43973268aa23c7cf4b4cafe0e819fac9b2412fcc991a21988492c3271a4e3f9b"
   }
  }
 },
 "nbformat": 4,
 "nbformat_minor": 2
}
