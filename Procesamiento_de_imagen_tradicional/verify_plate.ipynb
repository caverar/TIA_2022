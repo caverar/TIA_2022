{
 "cells": [
  {
   "cell_type": "code",
   "execution_count": null,
   "metadata": {},
   "outputs": [],
   "source": [
    "import numpy as np\n",
    "import cv2 \n",
    "\n",
    "def verify_plate(plate_zone):  \n",
    "    \n",
    "    plate_zone_gray = cv2.cvtColor(plate_zone, cv2.COLOR_BGR2GRAY)\n",
    "    plate_zone_binary = cv2.threshold(plate_zone_gray, 127, 255, cv2.THRESH_BINARY)[1]\n",
    "    h_plate, w_plate  = plate_zone_binary.shape\n",
    "    \n",
    "    min_height = 10\n",
    "    bool_h = h_plate > min_height\n",
    "    \n",
    "    min_width = 50\n",
    "    bool_w = w_plate > min_width\n",
    "    \n",
    "    height_width_relation = (h_plate / w_plate) * 100\n",
    "    bool_h_w = height_width_relation > 20 \n",
    "    \n",
    "    plate_contours = cv2.findContours(plate_zone_binary, cv2.RETR_TREE, cv2.CHAIN_APPROX_SIMPLE)[0]  \n",
    "    bool_contours = len(plate_contours) > 10\n",
    "    \n",
    "    hist = cv2.calcHist([plate_zone_binary],[0],None,[256],[0,256])\n",
    "    white_pixels = hist[-1]\n",
    "    black_pixels = hist[0]\n",
    "    black_white_factor = 0\n",
    "    \n",
    "    bool_white_black = (white_pixels - black_pixels) > black_white_factor\n",
    "    \n",
    "    info = \"\"\n",
    "    info += f\"Plate Zone Image\\nHeight: {h_plate}, Width: {w_plate}, Area: {h_plate*w_plate}\\n\"\n",
    "    info += f\"Height of plate is greater than {min_height}: {bool_h}\\n\"\n",
    "    info += f\"Width of plate is greater than {min_width}: {bool_w}\\n\"\n",
    "    info += f\"Height and width relation is {round(height_width_relation, 2)}. Valid plate: {bool_h_w}\\n\"\n",
    "    info += f\"Found contours: {len(plate_contours)}\\n\"\n",
    "    info += f\"Number of contours is greater than 10: {bool_contours}\"\n",
    "    info += f\"Binary Image...\\nWhite pixels: {white_pixels} Black pixels: {black_pixels}\\n\"\n",
    "    info += f\"White-Black-Difference is greater than {black_white_factor}: {bool_white_black}, {white_pixels - black_pixels}\\n\"\n",
    "  \n",
    "    plate_found = bool_h and bool_w and bool_h_w and bool_contours and  bool_white_black\n",
    "    \n",
    "    return plate_found, info"
   ]
  }
 ],
 "metadata": {
  "language_info": {
   "name": "python"
  },
  "orig_nbformat": 4
 },
 "nbformat": 4,
 "nbformat_minor": 2
}
