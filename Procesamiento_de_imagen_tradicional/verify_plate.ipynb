{
 "cells": [
  {
   "cell_type": "markdown",
   "metadata": {},
   "source": [
    "# Algoritmo de verificación de la zona de la placa"
   ]
  },
  {
   "cell_type": "markdown",
   "metadata": {},
   "source": [
    "En primer lugar se importan todos los paquetes y módulos necesarios"
   ]
  },
  {
   "cell_type": "code",
   "execution_count": 3,
   "metadata": {},
   "outputs": [],
   "source": [
    "import numpy as np\n",
    "import cv2 "
   ]
  },
  {
   "cell_type": "markdown",
   "metadata": {},
   "source": [
    "Se lee la imagen y se pasa a escala de grises"
   ]
  },
  {
   "cell_type": "code",
   "execution_count": 6,
   "metadata": {},
   "outputs": [],
   "source": [
    "plate_zone = cv2.imread('Fig/plate_zone.png', cv2.IMREAD_COLOR)\n",
    "plate_zone_gray = cv2.cvtColor(plate_zone, cv2.COLOR_BGR2GRAY)"
   ]
  },
  {
   "cell_type": "markdown",
   "metadata": {},
   "source": [
    "Se aplica una umbralización binaria"
   ]
  },
  {
   "cell_type": "code",
   "execution_count": 7,
   "metadata": {},
   "outputs": [],
   "source": [
    "plate_zone_binary = cv2.threshold(plate_zone_gray, 127, 255, cv2.THRESH_BINARY)[1]"
   ]
  },
  {
   "cell_type": "markdown",
   "metadata": {},
   "source": [
    "Se toma la altura y el ancho de la imagen y se realizan las primeras verificaciones.\n",
    "* Altura de la imagen mínimo 10 pixeles\n",
    "* Ancho de la imagen mínimo 50 pixeles\n",
    "* Razón entre la altura y el ancho mayor a 0.2"
   ]
  },
  {
   "cell_type": "code",
   "execution_count": 8,
   "metadata": {},
   "outputs": [],
   "source": [
    "h_plate, w_plate  = plate_zone_binary.shape\n",
    "    \n",
    "min_height = 10\n",
    "bool_h = h_plate > min_height\n",
    "\n",
    "min_width = 50\n",
    "bool_w = w_plate > min_width\n",
    "\n",
    "height_width_relation = (h_plate / w_plate) * 100\n",
    "bool_h_w = height_width_relation > 20 "
   ]
  },
  {
   "cell_type": "markdown",
   "metadata": {},
   "source": [
    "Seguido de esto se obtiene el número de contornos que se encuentran en la imagen. Al ser una placa, debería tener muchos contornos debido a la presencia de los caracteres (letras y números de la placa).\n",
    "* Número de contornos mayor a 10"
   ]
  },
  {
   "cell_type": "code",
   "execution_count": 9,
   "metadata": {},
   "outputs": [],
   "source": [
    "plate_contours = cv2.findContours(plate_zone_binary, cv2.RETR_TREE, cv2.CHAIN_APPROX_SIMPLE)[0]  \n",
    "bool_contours = len(plate_contours) > 10"
   ]
  },
  {
   "cell_type": "markdown",
   "metadata": {},
   "source": [
    "Por otro lado, se realiza un histograma de la imagen binarizada con el fin de calcular el número de pixeles blancos y negros.\n",
    "* Diferencia entre pixeles blancos y negros debe ser mayor a 0.\n",
    "\n",
    "Esto debido a que en la placa se debería tener más pixeles blancos (correspondientes al fondo) que pixeles negros (correspondientes a los caracteres)."
   ]
  },
  {
   "cell_type": "code",
   "execution_count": 10,
   "metadata": {},
   "outputs": [],
   "source": [
    "hist = cv2.calcHist([plate_zone_binary],[0],None,[256],[0,256])\n",
    "white_pixels = hist[-1]\n",
    "black_pixels = hist[0]\n",
    "black_white_factor = 0\n",
    "\n",
    "bool_white_black = (white_pixels - black_pixels) > black_white_factor"
   ]
  },
  {
   "cell_type": "markdown",
   "metadata": {},
   "source": [
    "El resultado del proceso de verificación se representa entonces mediante el uso de un booleano, *plate_found*, que representa si la imagen de entrada corresponde o no a una placa. El valor de este booleano corresponde al resultado de la operación AND de cada una de las 5 condiciones previamente explicadas."
   ]
  },
  {
   "cell_type": "code",
   "execution_count": 13,
   "metadata": {},
   "outputs": [
    {
     "name": "stdout",
     "output_type": "stream",
     "text": [
      "Plate was found: [ True]\n"
     ]
    }
   ],
   "source": [
    "plate_found = bool_h and bool_w and bool_h_w and bool_contours and  bool_white_black\n",
    "print(f\"Plate was found: {plate_found}\")"
   ]
  },
  {
   "cell_type": "markdown",
   "metadata": {},
   "source": [
    "Adicionalmente este proceso de verificación imprime el resultado de las diferentes condiciones y características relevantes de la imagen:"
   ]
  },
  {
   "cell_type": "code",
   "execution_count": 14,
   "metadata": {},
   "outputs": [
    {
     "name": "stdout",
     "output_type": "stream",
     "text": [
      "Plate Zone Image\n",
      "Height: 235, Width: 494, Area: 116090\n",
      "Height of plate is greater than 10: True\n",
      "Width of plate is greater than 50: True\n",
      "Height and width relation is 47.57. Valid plate: True\n",
      "Found contours: 32\n",
      "Number of contours is greater than 10: TrueBinary Image...\n",
      "White pixels: [81821.] Black pixels: [34269.]\n",
      "White-Black-Difference is greater than 0: [ True], [47552.]\n",
      "\n"
     ]
    }
   ],
   "source": [
    "info = \"\"\n",
    "info += f\"Plate Zone Image\\nHeight: {h_plate}, Width: {w_plate}, Area: {h_plate*w_plate}\\n\"\n",
    "info += f\"Height of plate is greater than {min_height}: {bool_h}\\n\"\n",
    "info += f\"Width of plate is greater than {min_width}: {bool_w}\\n\"\n",
    "info += f\"Height and width relation is {round(height_width_relation, 2)}. Valid plate: {bool_h_w}\\n\"\n",
    "info += f\"Found contours: {len(plate_contours)}\\n\"\n",
    "info += f\"Number of contours is greater than 10: {bool_contours}\"\n",
    "info += f\"Binary Image...\\nWhite pixels: {white_pixels} Black pixels: {black_pixels}\\n\"\n",
    "info += f\"White-Black-Difference is greater than {black_white_factor}: {bool_white_black}, {white_pixels - black_pixels}\\n\"\n",
    "\n",
    "print(info)"
   ]
  }
 ],
 "metadata": {
  "kernelspec": {
   "display_name": "Python 3.10.7 64-bit",
   "language": "python",
   "name": "python3"
  },
  "language_info": {
   "codemirror_mode": {
    "name": "ipython",
    "version": 3
   },
   "file_extension": ".py",
   "mimetype": "text/x-python",
   "name": "python",
   "nbconvert_exporter": "python",
   "pygments_lexer": "ipython3",
   "version": "3.10.7"
  },
  "orig_nbformat": 4,
  "vscode": {
   "interpreter": {
    "hash": "26de051ba29f2982a8de78e945f0abaf191376122a1563185a90213a26c5da77"
   }
  }
 },
 "nbformat": 4,
 "nbformat_minor": 2
}
